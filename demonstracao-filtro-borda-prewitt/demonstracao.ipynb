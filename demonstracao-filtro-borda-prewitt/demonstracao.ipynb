{
 "cells": [
  {
   "cell_type": "code",
   "execution_count": 13,
   "metadata": {},
   "outputs": [],
   "source": [
    "from PIL          import Image\n",
    "from scipy.signal import convolve2d\n",
    "import numpy as np\n",
    "\n",
    "def carregaImagem(sArquivo):\n",
    "    with open(sArquivo, 'r') as oArquivo:\n",
    "        oCabecalho = oArquivo.readline()\n",
    "        while True:\n",
    "            sLinha = oArquivo.readline().strip()\n",
    "            if not sLinha or sLinha.startswith('#'):\n",
    "                continue\n",
    "            break\n",
    "\n",
    "        iLargura, iAltura = map(int, sLinha.split())\n",
    "        iTons             = int(oArquivo.readline())\n",
    "        aPixels           = [int(sPixel) for sPixel in oArquivo.read().split()]\n",
    "\n",
    "    return iLargura, iAltura, iTons, aPixels\n",
    "\n",
    "def aplicaFiltroPrewitt(aImagem):\n",
    "    #Máscaras Prewitt\n",
    "    aGx = np.array([[-1, 0, 1], [-1, 0, 1], [-1, 0, 1]], dtype=np.int32)\n",
    "    aGy = np.array([[-1, -1, -1], [0, 0, 0], [1, 1, 1]], dtype=np.int32)\n",
    "\n",
    "    #Convolução para obter gradiente nas direções horizontal (Gx) e vertical (Gy)\n",
    "    aGradienteX = convolve2d(aImagem, aGx, mode='same', boundary='wrap')\n",
    "    aGradienteY = convolve2d(aImagem, aGy, mode='same', boundary='wrap')\n",
    "\n",
    "    #Magnitude do gradiente\n",
    "    aMagnitudeGradiente = np.sqrt(aGradienteX**2 + aGradienteY**2)\n",
    "\n",
    "    return aMagnitudeGradiente\n",
    "\n",
    "sArquivo                          = 'imagemEscalaCinza.pgm'\n",
    "iLargura, iAltura, iTons, aPixels = carregaImagem(sArquivo)\n",
    "aImagem                           = np.array(aPixels, dtype=np.int32).reshape(iAltura, iLargura)\n",
    "\n",
    "aMagnitudeGradiente = aplicaFiltroPrewitt(aImagem)\n",
    "oImagemFiltrada     = Image.fromarray(aMagnitudeGradiente.astype(np.uint8))\n",
    "oImagemFiltrada.show()\n"
   ]
  }
 ],
 "metadata": {
  "kernelspec": {
   "display_name": "Python 3",
   "language": "python",
   "name": "python3"
  },
  "language_info": {
   "name": "python",
   "version": "3.11.4"
  }
 },
 "nbformat": 4,
 "nbformat_minor": 2
}

{
 "cells": [
  {
   "cell_type": "code",
   "execution_count": 8,
   "metadata": {},
   "outputs": [],
   "source": [
    "from PIL import Image\n",
    "import numpy as np\n",
    "\n",
    "def realizaEqualizacaoHistogramaImagem(sNomeArquivoImagem):\n",
    "    oImagem       = Image.open(sNomeArquivoImagem+\".tif\")\n",
    "    aPixelsImagem = np.array(oImagem)\n",
    "\n",
    "    aHistograma = np.zeros(256, dtype=int) #Montagem do histograma de pixels da imagem aberta\n",
    "    for iPixel in np.nditer(aPixelsImagem):\n",
    "        aHistograma[iPixel] += 1\n",
    "\n",
    "    aDistribuicaoAcumulativa = np.cumsum(aHistograma) #Montagem da Distribuição Acumulativa, em Array, dos pixels da imagem aberta\n",
    "\n",
    "    iCdfMin = aDistribuicaoAcumulativa.min() #Aplicação da equalização de histograma sobre a imagem aberta, com o CDF e o Histograma montados até aqui\n",
    "    iPixels = aPixelsImagem.shape[0] * aPixelsImagem.shape[1]\n",
    "    aPixelsEqualizados = ((aDistribuicaoAcumulativa[aPixelsImagem] - iCdfMin) / (iPixels - iCdfMin) * 255).astype(np.uint8)\n",
    "\n",
    "    oNovaImagemEqualizada = Image.fromarray(aPixelsEqualizados) #Montagem da nova imagem equalizada\n",
    "    oNovaImagemEqualizada.save(sNomeArquivoImagem+\"-equalizada.tif\")\n",
    "\n",
    "    oNovaImagemEqualizada.close()\n",
    "    oImagem.close()\n",
    "\n",
    "realizaEqualizacaoHistogramaImagem(\"Fig0316(1)(top_left)\");\n",
    "realizaEqualizacaoHistogramaImagem(\"Fig0316(2)(2nd_from_top)\");\n",
    "realizaEqualizacaoHistogramaImagem(\"Fig0316(3)(third_from_top)\");\n",
    "realizaEqualizacaoHistogramaImagem(\"Fig0316(4)(bottom_left)\");"
   ]
  }
 ],
 "metadata": {
  "kernelspec": {
   "display_name": "base",
   "language": "python",
   "name": "python3"
  },
  "language_info": {
   "codemirror_mode": {
    "name": "ipython",
    "version": 3
   },
   "file_extension": ".py",
   "mimetype": "text/x-python",
   "name": "python",
   "nbconvert_exporter": "python",
   "pygments_lexer": "ipython3",
   "version": "3.11.5"
  }
 },
 "nbformat": 4,
 "nbformat_minor": 2
}

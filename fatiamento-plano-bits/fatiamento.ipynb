{
 "cells": [
  {
   "cell_type": "code",
   "execution_count": 8,
   "metadata": {},
   "outputs": [],
   "source": [
    "from PIL import Image\n",
    "\n",
    "oImagem           = Image.open('imagem.tif')\n",
    "aPixels           = list(oImagem.getdata())\n",
    "iLargura, iAltura = oImagem.size\n",
    "iPlanos           = 8\n",
    "\n",
    "aPlanosBits = [[] for _ in range(iPlanos)]\n",
    "\n",
    "#Extraindo os planos de bits\n",
    "for iY in range(iAltura):\n",
    "    for iX in range(iLargura):\n",
    "        iValor = aPixels[iY * iLargura + iX]\n",
    "        for i in range(iPlanos):\n",
    "            iBit = (iValor >> i) & 1 #Extraindo o bit da vez, usando máscara \">>\" e deslocamento \" & 1\" isolando o bit da vez mais à direita\n",
    "            aPlanosBits[i].append(iBit)\n",
    "\n",
    "for i, aPlano in enumerate(aPlanosBits):\n",
    "    nova_imagem = Image.new('1', (iLargura, iAltura))\n",
    "    nova_imagem.putdata(aPlano)\n",
    "    nova_imagem.save(f'imagemPlano{i}.tiff')\n",
    "\n",
    "oImagem.close()\n"
   ]
  }
 ],
 "metadata": {
  "kernelspec": {
   "display_name": "base",
   "language": "python",
   "name": "python3"
  },
  "language_info": {
   "codemirror_mode": {
    "name": "ipython",
    "version": 3
   },
   "file_extension": ".py",
   "mimetype": "text/x-python",
   "name": "python",
   "nbconvert_exporter": "python",
   "pygments_lexer": "ipython3",
   "version": "3.11.5"
  }
 },
 "nbformat": 4,
 "nbformat_minor": 2
}

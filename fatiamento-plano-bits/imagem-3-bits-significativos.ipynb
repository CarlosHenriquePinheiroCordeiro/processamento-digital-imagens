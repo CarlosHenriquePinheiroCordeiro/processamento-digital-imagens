{
 "cells": [
  {
   "cell_type": "code",
   "execution_count": 2,
   "metadata": {},
   "outputs": [],
   "source": [
    "from PIL import Image\n",
    "\n",
    "oImagem           = Image.open('imagem.tif')\n",
    "aPixels           = list(oImagem.getdata())\n",
    "iLargura, iAltura = oImagem.size\n",
    "iBits             = 3\n",
    "aNovaImagem       = []\n",
    "\n",
    "for iPixel in aPixels:\n",
    "    aBits            = iPixel >> (8 - iBits) #Mantendo os 3 bits mais significativos\n",
    "    iPixelPosicional = iPixel & (2 ** (8 - iBits) - 1) #iPixel posicional\n",
    "    iFatorSoma       = 2 ** (8 - iBits)\n",
    "    iNovoPixel       = aBits + (iPixelPosicional * iFatorSoma)\n",
    "    aNovaImagem.append(iNovoPixel)\n",
    "\n",
    "oNovaImagem = Image.new('L', (iLargura, iAltura))\n",
    "oNovaImagem.putdata(aNovaImagem)\n",
    "oNovaImagem.save('imagem3BitsSignificativos.tiff')\n",
    "\n",
    "oImagem.close()\n"
   ]
  }
 ],
 "metadata": {
  "kernelspec": {
   "display_name": "base",
   "language": "python",
   "name": "python3"
  },
  "language_info": {
   "codemirror_mode": {
    "name": "ipython",
    "version": 3
   },
   "file_extension": ".py",
   "mimetype": "text/x-python",
   "name": "python",
   "nbconvert_exporter": "python",
   "pygments_lexer": "ipython3",
   "version": "3.11.5"
  }
 },
 "nbformat": 4,
 "nbformat_minor": 2
}

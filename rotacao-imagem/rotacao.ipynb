{
 "cells": [
  {
   "cell_type": "code",
   "execution_count": 1,
   "metadata": {},
   "outputs": [],
   "source": [
    "import numpy as np\n",
    "import pandas as pd\n",
    "\n",
    "def salvaImagem(sNomeArquivo, aImagem):\n",
    "    oArquivo = open(sNomeArquivo, 'a')\n",
    "    oArquivo.write(f'P3\\n800 800\\n255\\n')\n",
    "    for aLinha in aImagem:\n",
    "        for sPixel in aLinha:\n",
    "            oArquivo.write(sPixel+' ')\n",
    "        oArquivo.write('\\n')\n",
    "    oArquivo.close()\n",
    "\n",
    "def getArrayImagens(sArquivoImagem):\n",
    "    aPixels = np.array([])\n",
    "    with open(sArquivoImagem, 'r') as conteudo:\n",
    "        aPixels = np.append(aPixels, [conteudo.read()])\n",
    "    \n",
    "    aPixels  = aPixels[0].split('\\n')\n",
    "    aPixels  = np.array(aPixels)\n",
    "    aPixels  = np.delete(aPixels, [0,1,2])\n",
    "    \n",
    "    aPixels  = np.char.split(aPixels, sep=' ')\n",
    "    aPixels  = np.concatenate(aPixels)\n",
    "    \n",
    "    bMascara = (aPixels != '')\n",
    "    aPixels  = aPixels[bMascara]\n",
    "    return aPixels.reshape(2400, 800)\n",
    "\n",
    "def rotacaoImagem90(sArquivoImagem):\n",
    "    aImagem = np.rot90(getArrayImagens(sArquivoImagem))\n",
    "    salvaImagem('rotacionada90.ppm', aImagem)\n",
    "\n",
    "def rotacaoImagem180(sArquivoImagem):\n",
    "    aImagem = np.rot90(np.rot90(getArrayImagens(sArquivoImagem)))\n",
    "    salvaImagem('rotacionada180.ppm', aImagem)\n",
    "\n",
    "rotacaoImagem90('EntradaRGB.ppm')\n",
    "rotacaoImagem180('EntradaRGB.ppm')"
   ]
  }
 ],
 "metadata": {
  "kernelspec": {
   "display_name": "Python 3",
   "language": "python",
   "name": "python3"
  },
  "language_info": {
   "codemirror_mode": {
    "name": "ipython",
    "version": 3
   },
   "file_extension": ".py",
   "mimetype": "text/x-python",
   "name": "python",
   "nbconvert_exporter": "python",
   "pygments_lexer": "ipython3",
   "version": "3.11.4"
  }
 },
 "nbformat": 4,
 "nbformat_minor": 2
}

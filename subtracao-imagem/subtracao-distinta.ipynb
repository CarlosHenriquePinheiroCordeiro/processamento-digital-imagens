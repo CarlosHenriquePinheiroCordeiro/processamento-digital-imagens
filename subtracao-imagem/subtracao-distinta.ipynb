{
 "cells": [
  {
   "cell_type": "code",
   "execution_count": 3,
   "metadata": {},
   "outputs": [],
   "source": [
    "from PIL import Image\n",
    "\n",
    "def carregaImagem(sNomeArquivo):\n",
    "    with open(sNomeArquivo, 'r') as aArquivo:\n",
    "        aLinhas = aArquivo.readlines()\n",
    "\n",
    "    sCabecalho        = aLinhas[:4]\n",
    "    aDimensoes        = sCabecalho[1].split()\n",
    "    iLargura, iAltura = map(int, aDimensoes)\n",
    "    iCanal            = int(sCabecalho[2])\n",
    "    aDados            = []\n",
    "    for sLinha in aLinhas[3:]:\n",
    "        aDados.extend(map(int, sLinha.split()))\n",
    "\n",
    "    return iLargura, iAltura, iCanal, aDados\n",
    "\n",
    "def salvaImagem(sNomeArquivo, iLargura, iAltura, iCanal, aDados):\n",
    "    with open(sNomeArquivo, 'w') as oArquivo:\n",
    "        oArquivo.write(f'P2\\n')\n",
    "        oArquivo.write(f'{iLargura} {iAltura}\\n')\n",
    "        oArquivo.write(f'{iCanal}\\n')\n",
    "\n",
    "        aDadosStr = [str(iValor) for iValor in aDados]\n",
    "        aLinhas   = [aDadosStr[i:i+iLargura] for i in range(0, len(aDadosStr), iLargura)]\n",
    "        for line in aLinhas:\n",
    "            oArquivo.write(' '.join(line) + '\\n')\n",
    "\n",
    "def subtraiImagens(oImg1, oImg2, iX, iY):\n",
    "    iLargura1, iAltura1, iCanal1, aDados1 = oImg1\n",
    "    iLargura2, iAltura2, iCanal2, aDados2 = oImg2\n",
    "\n",
    "    if iX < 0 or iY < 0 or iX + iLargura2 > iLargura1 or iY + iAltura2 > iAltura1:\n",
    "        raise ValueError(\"Coordenadas de início inválidas\")\n",
    "\n",
    "    aResultado = aDados1.copy()\n",
    "\n",
    "    for i in range(iAltura2):\n",
    "        for j in range(iLargura2):\n",
    "            iIndice1 = (iY + i) * iLargura1 + (iX + j)\n",
    "            iIndice2 = i * iLargura2 + j\n",
    "\n",
    "            aResultado[iIndice1] = max(0, aDados1[iIndice1] - aDados2[iIndice2])\n",
    "\n",
    "    return iLargura1, iAltura1, iCanal1, aResultado\n",
    "\n",
    "oImg1 = carregaImagem(\"entradaDistinta1.pgm\")\n",
    "oImg2 = carregaImagem(\"entradaDistinta2.pgm\")\n",
    "\n",
    "iX = int(input(\"Informe a coordenada x de início da região de interesse: \"))\n",
    "iY = int(input(\"Informe a coordenada y de início da região de interesse: \"))\n",
    "\n",
    "aImgResultante = subtraiImagens(oImg1, oImg2, iX, iY)\n",
    "\n",
    "salvaImagem(\"imagemDistintaSubtraida.pgm\", *aImgResultante)"
   ]
  }
 ],
 "metadata": {
  "kernelspec": {
   "display_name": "base",
   "language": "python",
   "name": "python3"
  },
  "language_info": {
   "codemirror_mode": {
    "name": "ipython",
    "version": 3
   },
   "file_extension": ".py",
   "mimetype": "text/x-python",
   "name": "python",
   "nbconvert_exporter": "python",
   "pygments_lexer": "ipython3",
   "version": "3.11.5"
  }
 },
 "nbformat": 4,
 "nbformat_minor": 2
}
